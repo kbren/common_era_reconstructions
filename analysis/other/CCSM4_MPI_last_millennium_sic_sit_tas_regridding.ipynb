{
 "cells": [
  {
   "cell_type": "markdown",
   "metadata": {},
   "source": [
    "# Regridding Last Millennium simulations: sic/sit/tas\n",
    "\n",
    "Katie Brennan  \n",
    "August 2020"
   ]
  },
  {
   "cell_type": "code",
   "execution_count": 1,
   "metadata": {},
   "outputs": [],
   "source": [
    "import sys,os,copy\n",
    "\n",
    "import numpy as np\n",
    "import pickle"
   ]
  },
  {
   "cell_type": "code",
   "execution_count": 2,
   "metadata": {},
   "outputs": [
    {
     "name": "stdout",
     "output_type": "stream",
     "text": [
      "Warning: No module named 'bayspline'\n",
      "Warning: No module named 'bayspar'\n",
      "Warning: No module named 'deltaoxfox'\n",
      "Warning: No module named 'baymag'\n",
      "Loading information from datasets.yml\n",
      "Loading information from grid_def.yml\n"
     ]
    }
   ],
   "source": [
    "sys.path.insert(1,'/home/disk/kalman2/mkb22/LMR_lite/')\n",
    "import LMR_lite_utils as LMRlite\n",
    "import LMR_utils as lmr\n",
    "import LMR_config"
   ]
  },
  {
   "cell_type": "code",
   "execution_count": 33,
   "metadata": {},
   "outputs": [
    {
     "name": "stdout",
     "output_type": "stream",
     "text": [
      "loading configuration...\n",
      "Checking configuration ... \n",
      "OK!\n"
     ]
    }
   ],
   "source": [
    "cfile = '/home/disk/kalman2/mkb22/LMR_lite/configs/config_ccsm4_sit_brennan2020.yml'\n",
    "\n",
    "proxies = 'pseudo'\n",
    "\n",
    "savedir = ('/home/disk/p/mkb22/nobackup/LMR_output/common_era_experiments/experiments/pseudo/')\n",
    "\n",
    "print('loading configuration...')\n",
    "cfg = LMRlite.load_config_simple(cfile)"
   ]
  },
  {
   "cell_type": "code",
   "execution_count": 34,
   "metadata": {},
   "outputs": [
    {
     "name": "stdout",
     "output_type": "stream",
     "text": [
      "loading prior\n",
      "Reading file:  /home/disk/kalman3/rtardif/LMR/data/model/ccsm4_last_millenium/tas_sfc_Amon_CCSM4_past1000_085001-185012.nc\n",
      "(12012, 192, 288)\n",
      "indlat= 0  indlon= 1\n",
      "Anomalies provided as the prior: Removing the temporal mean (for every gridpoint)...\n",
      "tas : Global(monthly): mean= 8.072375e-07  , std-dev= 1.8899411\n",
      "Averaging over month sequence<<: [1, 2, 3, 4, 5, 6, 7, 8, 9, 10, 11, 12]\n",
      "tas : Global(time-averaged): mean= 4.4424884352419226e-08  , std-dev= 0.8317386411161235\n",
      "Reading file:  /home/disk/kalman3/rtardif/LMR/data/model/ccsm4_last_millenium/sic_sfc_OImon_CCSM4_past1000_085001-185012.nc\n",
      "(12012, 180, 360)\n",
      "indlat= 0  indlon= 1\n",
      "Full field provided as the prior\n",
      "sic : Global(monthly): mean= 13.445376  , std-dev= 32.317898\n",
      "Averaging over month sequence<<: [1, 2, 3, 4, 5, 6, 7, 8, 9, 10, 11, 12]\n",
      "sic : Global(time-averaged): mean= 13.445537533002385  , std-dev= 31.06984518565762\n",
      "Reading file:  /home/disk/kalman3/rtardif/LMR/data/model/ccsm4_last_millenium/sit_noMV_OImon_CCSM4_past1000_085001-185012.nc\n",
      "(12012, 180, 360)\n",
      "indlat= 0  indlon= 1\n",
      "Full field provided as the prior\n",
      "sit : Global(monthly): mean= 0.41177025  , std-dev= 1.3603878\n",
      "Averaging over month sequence<<: [1, 2, 3, 4, 5, 6, 7, 8, 9, 10, 11, 12]\n",
      "sit : Global(time-averaged): mean= 0.4117762957417489  , std-dev= 1.3454953816549897\n",
      " \n",
      "State vector information:\n",
      "Nx = 184896\n",
      "state_vect_info= {'tas_sfc_Amon': {'pos': (0, 55295), 'spacecoords': ('lat', 'lon'), 'spacedims': (192, 288), 'vartype': '2D:horizontal'}, 'sic_sfc_OImon': {'pos': (55296, 120095), 'spacecoords': ('lat', 'lon'), 'spacedims': (180, 360), 'vartype': '2D:horizontal'}, 'sit_noMV_OImon': {'pos': (120096, 184895), 'spacecoords': ('lat', 'lon'), 'spacedims': (180, 360), 'vartype': '2D:horizontal'}}\n",
      "Random selection of 200 ensemble members\n"
     ]
    }
   ],
   "source": [
    "# LOAD PRIOR ENSEMBLE: \n",
    "print('loading prior')\n",
    "X, Xb_one = LMRlite.load_prior(cfg)\n",
    "Xbp = Xb_one - Xb_one.mean(axis=1,keepdims=True)"
   ]
  },
  {
   "cell_type": "code",
   "execution_count": 35,
   "metadata": {},
   "outputs": [],
   "source": [
    "# Save lat/lon of prior for later reloading and regridding of truth data\n",
    "prior_lat_full = X.prior_dict['tas_sfc_Amon']['lat']\n",
    "prior_lon_full = X.prior_dict['tas_sfc_Amon']['lon']\n",
    "\n",
    "prior_sic_lat_full = X.prior_dict['sic_sfc_OImon']['lat']\n",
    "prior_sic_lon_full = X.prior_dict['sic_sfc_OImon']['lon']\n",
    "\n",
    "prior_sit_lat_full = X.prior_dict['sit_noMV_OImon']['lat']\n",
    "prior_sit_lon_full = X.prior_dict['sit_noMV_OImon']['lon']\n",
    "# prior_sit_lat_full = X.prior_dict['sit_sfc_OImon']['lat']\n",
    "# prior_sit_lon_full = X.prior_dict['sit_sfc_OImon']['lon']"
   ]
  },
  {
   "cell_type": "code",
   "execution_count": 36,
   "metadata": {},
   "outputs": [
    {
     "name": "stdout",
     "output_type": "stream",
     "text": [
      "regridding prior...\n",
      "0 55295\n",
      "(55296, 200)\n",
      "(55296, 2)\n",
      "(184896, 2)\n",
      "tas_sfc_Amon  : 2D lat/lon variable, truncating this variable\n",
      "nlat,nlon: 192 288\n",
      "=> Full array:      -11.247562408447266 8.361244201660156 -0.019776800259318432 0.8379584254775313\n",
      "=> Truncated array: -11.101190125702887 8.303932885114513 -0.019449816660995874 0.833048701621003\n",
      "55296 120095\n",
      "(64800, 200)\n",
      "(64800, 2)\n",
      "(184896, 2)\n",
      "sic_sfc_OImon  : 2D lat/lon variable, truncating this variable\n",
      "nlat,nlon: 180 360\n",
      "=> Full array:      0.0 99.99801635742188 13.455709348935276 31.081066713453712\n",
      "=> Truncated array: 0.0 99.72157837827302 13.467102466477478 30.53805028448229\n",
      "120096 184895\n",
      "(64800, 200)\n",
      "(64800, 2)\n",
      "(184896, 2)\n",
      "sit_noMV_OImon  : 2D lat/lon variable, truncating this variable\n",
      "nlat,nlon: 180 360\n",
      "=> Full array:      0.0 67.77120208740234 0.4126973636495976 1.3464391916903842\n",
      "=> Truncated array: 0.0 43.445540144058015 0.4143014260711595 1.2610664790047388\n"
     ]
    }
   ],
   "source": [
    "\n",
    "# check if config is set to regrid the prior\n",
    "if cfg.prior.regrid_method:\n",
    "    print('regridding prior...')\n",
    "    # this function over-writes X, even if return is given a different name\n",
    "    [X_regrid,Xb_one_new] = LMRlite.prior_regrid(cfg,X,Xb_one,verbose=True)\n",
    "else:\n",
    "    X_regrid.trunc_state_info = X.full_state_info"
   ]
  },
  {
   "cell_type": "code",
   "execution_count": 37,
   "metadata": {},
   "outputs": [],
   "source": [
    "# Load full prior for tas and regrid\n",
    "prior_tas_orig = X.prior_dict['tas_sfc_Amon']['value']\n",
    "nyears = prior_tas_orig.shape[0]\n",
    "\n",
    "prior_regrid_tas_prep = np.transpose(np.reshape(prior_tas_orig,\n",
    "                                                (prior_tas_orig.shape[0],       \n",
    "                                                 prior_tas_orig.shape[1]*prior_tas_orig.shape[2])))\n",
    "\n",
    "# Regrid full tas prior for proxy selection and verification: \n",
    "[prior_tas_regrid,lat_tas_new,lon_tas_new] = lmr.regrid_esmpy(cfg.prior.esmpy_grid_def['nlat'],\n",
    "                                                        cfg.prior.esmpy_grid_def['nlon'],\n",
    "                                                        nyears,\n",
    "                                                        prior_regrid_tas_prep,\n",
    "                                                        prior_lat_full,\n",
    "                                                        prior_lon_full,\n",
    "                                                        prior_lat_full.shape[0],\n",
    "                                                        prior_lat_full.shape[1],\n",
    "                                                        method=cfg.prior.esmpy_interp_method)\n",
    "\n",
    "prior_tas_regrid = np.reshape(np.transpose(prior_tas_regrid),(nyears,\n",
    "                                                              cfg.prior.esmpy_grid_def['nlat'],\n",
    "                                                              cfg.prior.esmpy_grid_def['nlon'],))"
   ]
  },
  {
   "cell_type": "code",
   "execution_count": 38,
   "metadata": {},
   "outputs": [],
   "source": [
    "# Load full prior for tas and regrid\n",
    "prior_sic_orig = X.prior_dict['sic_sfc_OImon']['value']\n",
    "nyears = prior_sic_orig.shape[0]\n",
    "\n",
    "prior_regrid_sic_prep = np.transpose(np.reshape(prior_sic_orig,\n",
    "                                                (prior_sic_orig.shape[0],       \n",
    "                                                 prior_sic_orig.shape[1]*prior_sic_orig.shape[2])))\n",
    "\n",
    "# Regrid full tas prior for proxy selection and verification: \n",
    "[prior_sic_regrid,lat_sic_new,lon_sic_new] = lmr.regrid_esmpy(cfg.prior.esmpy_grid_def['nlat'],\n",
    "                                                        cfg.prior.esmpy_grid_def['nlon'],\n",
    "                                                        nyears,\n",
    "                                                        prior_regrid_sic_prep,\n",
    "                                                        prior_sic_lat_full,\n",
    "                                                        prior_sic_lon_full,\n",
    "                                                        prior_sic_lat_full.shape[0],\n",
    "                                                        prior_sic_lon_full.shape[1],\n",
    "                                                        method=cfg.prior.esmpy_interp_method)\n",
    "\n",
    "prior_sic_regrid = np.reshape(np.transpose(prior_sic_regrid),(nyears,\n",
    "                                                              cfg.prior.esmpy_grid_def['nlat'],\n",
    "                                                              cfg.prior.esmpy_grid_def['nlon'],))"
   ]
  },
  {
   "cell_type": "code",
   "execution_count": 39,
   "metadata": {},
   "outputs": [],
   "source": [
    "# Load full prior for tas and regrid\n",
    "prior_sit_orig = X.prior_dict['sit_noMV_OImon']['value']\n",
    "#prior_sit_orig = X.prior_dict['sit_sfc_OImon']['value']\n",
    "nyears = prior_tas_orig.shape[0]\n",
    "\n",
    "prior_regrid_sit_prep = np.transpose(np.reshape(prior_sit_orig,\n",
    "                                                (prior_sit_orig.shape[0],       \n",
    "                                                 prior_sit_orig.shape[1]*prior_sit_orig.shape[2])))\n",
    "\n",
    "# Regrid full tas prior for proxy selection and verification: \n",
    "[prior_sit_regrid,lat_sit_new,lon_sit_new] = lmr.regrid_esmpy(cfg.prior.esmpy_grid_def['nlat'],\n",
    "                                                        cfg.prior.esmpy_grid_def['nlon'],\n",
    "                                                        nyears,\n",
    "                                                        prior_regrid_sit_prep,\n",
    "                                                        prior_sit_lat_full,\n",
    "                                                        prior_sit_lon_full,\n",
    "                                                        prior_sit_lat_full.shape[0],\n",
    "                                                        prior_sit_lon_full.shape[1],\n",
    "                                                        method=cfg.prior.esmpy_interp_method)\n",
    "\n",
    "prior_sit_regrid = np.reshape(np.transpose(prior_sit_regrid),(nyears,\n",
    "                                                              cfg.prior.esmpy_grid_def['nlat'],\n",
    "                                                              cfg.prior.esmpy_grid_def['nlon'],))"
   ]
  },
  {
   "cell_type": "code",
   "execution_count": 40,
   "metadata": {},
   "outputs": [],
   "source": [
    "ccsm4_dir = '/home/disk/chaos/mkb22/Documents/SeaIceData/CCSM4/CCSM4_last_millennium/'\n",
    "ccsm4_file = 'ccsm4_sic_sit_tas_20CRv2_850_1850_full.npz'\n",
    "\n",
    "np.savez(ccsm4_dir+ccsm4_file, sic_ccsm4=prior_sic_regrid, \n",
    "         sit_ccsm4=prior_sit_regrid, tas_ccsm4=prior_tas_regrid, \n",
    "         lat_ccsm4 = lat_sit_new, lon_ccsm4 = lon_sit_new)\n",
    "\n",
    "# mpi_dir = '/home/disk/chaos/mkb22/Documents/SeaIceData/MPI/'\n",
    "# mpi_file = 'mpi_sic_sit_tas_20CRv2_850_1850_full.npz'\n",
    "\n",
    "# np.savez(mpi_dir+mpi_file, sic_mpi=prior_sic_regrid, \n",
    "#          sit_mpi=prior_sit_regrid, tas_mpi=prior_tas_regrid, \n",
    "#          lat_mpi = lat_sit_new, lon_mpi = lon_sit_new)"
   ]
  },
  {
   "cell_type": "code",
   "execution_count": null,
   "metadata": {},
   "outputs": [],
   "source": []
  }
 ],
 "metadata": {
  "kernelspec": {
   "display_name": "Python 3",
   "language": "python",
   "name": "python3"
  },
  "language_info": {
   "codemirror_mode": {
    "name": "ipython",
    "version": 3
   },
   "file_extension": ".py",
   "mimetype": "text/x-python",
   "name": "python",
   "nbconvert_exporter": "python",
   "pygments_lexer": "ipython3",
   "version": "3.6.6"
  }
 },
 "nbformat": 4,
 "nbformat_minor": 2
}
