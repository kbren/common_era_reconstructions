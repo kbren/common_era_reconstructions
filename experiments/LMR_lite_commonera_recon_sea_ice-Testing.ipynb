{
 "cells": [
  {
   "cell_type": "markdown",
   "metadata": {},
   "source": [
    "# LMR reconstructions using temperature sensitive proxies\n",
    "\n",
    "Created by Greg Hakim  \n",
    "Picked up by Katie Brennan  \n",
    "May 2019  \n",
    "October 2019 - add in 95th percentile calculations.   \n",
    "June 2020 - adapted to work for common era reconstructions\n",
    "\n",
    "Goal: Assimilate temperature sensitive proxy data into last millennium climate model simulations output (from MPI and CCSM4) to reconstruct Arctic sea ice in the Common Era (0-2000 CE). "
   ]
  },
  {
   "cell_type": "code",
   "execution_count": 2,
   "metadata": {},
   "outputs": [
    {
     "name": "stdout",
     "output_type": "stream",
     "text": [
      "Loading information from datasets.yml\n",
      "Loading information from grid_def.yml\n",
      "Loading information from datasets.yml\n",
      "Loading information from grid_def.yml\n"
     ]
    }
   ],
   "source": [
    "import sys,os,copy\n",
    "#sys.path.append(\"/Users/hakim/gitwork/LMR_python3\")\n",
    "\n",
    "import sys\n",
    "import numpy as np\n",
    "import pickle\n",
    "\n",
    "import matplotlib.pyplot as plt\n",
    "import cartopy.crs as ccrs\n",
    "import cartopy.feature as cfeature\n",
    "from cartopy.util import add_cyclic_point\n",
    "\n",
    "from time import time\n",
    "from spharm import Spharmt, getspecindx, regrid\n",
    "from netCDF4 import Dataset\n",
    "from scipy import stats\n",
    "\n",
    "sys.path.insert(1,'/home/disk/p/mkb22/Documents/si_analysis_kb/instrumental_assimilation_experiments/')\n",
    "import reanalysis_recons_utils as rrutils\n",
    "\n",
    "sys.path.insert(1,'/home/disk/kalman2/mkb22/LMR_lite/')\n",
    "import LMR_lite_utils as LMRlite\n",
    "import LMR_utils \n",
    "import LMR_config\n",
    "\n",
    "sys.path.insert(1,'/home/disk/p/mkb22/Documents/si_utils_kb/')\n",
    "import Sice_utils as siutils \n",
    "\n",
    "def sub_arctic_plot(fig,ax,VAR1,LAT,LON,TITLE1,MAX1,colorbar=True,extent=True):\n",
    "    var1, lon1 = add_cyclic_point(VAR1, coord=LON)\n",
    "    new_lon2d, new_lat2d = np.meshgrid(lon1, LAT)\n",
    "    if extent is True: \n",
    "        ax.set_extent([-150, 140, 50, 90], crs=ccrs.PlateCarree())\n",
    "    ax.gridlines(linestyle='--')\n",
    "    ax.add_feature(cfeature.LAND, facecolor=(1, 1, 1))\n",
    "    cs = ax.pcolormesh(new_lon2d, new_lat2d, var1, \n",
    "                       vmin=-MAX1, vmax=MAX1, cmap=plt.cm.RdBu_r, \n",
    "                       transform=ccrs.PlateCarree())\n",
    "    ax.coastlines(resolution='110m', linewidth=0.5)\n",
    "    if colorbar is True:\n",
    "        plt.colorbar(cs, ax=ax)\n",
    "    ax.set_title(TITLE1)\n",
    "    \n",
    "proj = dict(projection=ccrs.Stereographic(central_latitude=90,\n",
    "                                          central_longitude=-45,\n",
    "                                          true_scale_latitude=0.1))"
   ]
  },
  {
   "cell_type": "code",
   "execution_count": 7,
   "metadata": {},
   "outputs": [
    {
     "name": "stdout",
     "output_type": "stream",
     "text": [
      "loading configuration...\n",
      "Checking configuration ... \n",
      "OK!\n",
      "Checking configuration ... \n",
      "OK!\n",
      "Checking configuration ... \n",
      "OK!\n",
      "Checking configuration ... \n",
      "OK!\n",
      "Checking configuration ... \n",
      "OK!\n",
      "Checking configuration ... \n",
      "OK!\n",
      "Checking configuration ... \n",
      "OK!\n",
      "Checking configuration ... \n",
      "OK!\n",
      "Checking configuration ... \n",
      "OK!\n",
      "Checking configuration ... \n",
      "OK!\n"
     ]
    }
   ],
   "source": [
    "#cfile = '/home/disk/kalman2/mkb22/LMR_lite/configs/config_ccsm4_brennan2020.yml'\n",
    "cfile = '/home/disk/kalman2/mkb22/LMR_lite/configs/config_ccsm4_fixedprox.yml'\n",
    "#cfile = '/home/disk/kalman2/mkb22/LMR_lite/configs/config_production2.yml'\n",
    "\n",
    "iteration = ['a','b','c','d','e','f','g','h','i','j']\n",
    "#iteration = ['a']\n",
    "\n",
    "proxies = 'pages2kv1'\n",
    "#proxies = 'fullLMRdbv1_1'\n",
    "\n",
    "savedir = ('/home/disk/p/mkb22/nobackup/LMR_output/common_era_experiments/experiments/ccsm4/')\n",
    "\n",
    "print('loading configuration...')\n",
    "cfg = LMRlite.load_config(cfile)\n",
    "    \n",
    "iter_range = cfg.wrapper.iter_range\n",
    "MCiters = range(iter_range[0],iter_range[1]+1)"
   ]
  },
  {
   "cell_type": "code",
   "execution_count": 8,
   "metadata": {},
   "outputs": [
    {
     "name": "stdout",
     "output_type": "stream",
     "text": [
      "                               Ice Cores_d18O :    15\n",
      "                                 Ice Cores_dD :     2\n",
      "                             Lake Cores_Varve :     4\n",
      "                       Tree Rings_WidthPages2 :    71\n",
      "                       Tree Rings_WoodDensity :     9\n",
      "                                        TOTAL :   101\n",
      "-----------------------------------------------------\n",
      "completed in 1.9164726734161377 seconds\n",
      "-----------------------------------------------------\n"
     ]
    }
   ],
   "source": [
    "# load proxies\n",
    "prox_manager = LMRlite.load_proxies(cfg)"
   ]
  },
  {
   "cell_type": "code",
   "execution_count": null,
   "metadata": {
    "collapsed": true
   },
   "outputs": [],
   "source": [
    "recon_start = 0\n",
    "recon_end = 2000\n",
    "\n",
    "# inflate the sea ice variable here (can inflate whole state here too)\n",
    "inflate = 2.6\n",
    "inf_name = '2.6'\n",
    "prior_name = 'ccsm4'\n",
    "#inflate_list = [1.1,1.2,1.3,1.4,1.5]\n",
    "\n",
    "cfile = '/home/disk/kalman2/mkb22/LMR_lite/configs/config_ccsm4_brennan2020.yml'\n",
    "#cfile = '/home/disk/kalman2/mkb22/LMR_lite/configs/config_production2.yml'\n",
    "\n",
    "#loc_list = [25000,20000,10000,7500,5000]\n",
    "loc_list = [15000]\n",
    "\n",
    "savename = []\n",
    "proxies = 'pages2kv1'\n",
    "#proxies = 'fullLMRdbv1_1'\n",
    "\n",
    "savedir = ('/home/disk/p/mkb22/nobackup/LMR_output/common_era_experiments/experiments/ccsm4/')\n",
    "\n",
    "cfg = LMRlite.load_config(cfile)\n",
    "    \n",
    "iter_range = cfg.wrapper.iter_range\n",
    "MCiters = range(iter_range[0],iter_range[1]+1)\n",
    "\n",
    "proxy_ind = np.zeros((iter_range[1]+1,405))\n",
    "prior_ind = np.zeros((iter_range[1]+1,200))"
   ]
  },
  {
   "cell_type": "code",
   "execution_count": null,
   "metadata": {},
   "outputs": [],
   "source": []
  },
  {
   "cell_type": "code",
   "execution_count": null,
   "metadata": {
    "collapsed": true
   },
   "outputs": [],
   "source": [
    "for iter_num in MCiters:\n",
    "    savename = [('sic_'+prior_name+'_anrecon_'+str(recon_start)+'_'+\n",
    "                     str(recon_end)+'_'+proxies+'_inf'+inf_name+'_loc'+str(loc_list[0])+\n",
    "                     '_iter'+str(iter_num)+'.pkl')]\n",
    "    if iter_num is 0: \n",
    "        savenames = [('sic_'+prior_name+'_anrecon_'+str(recon_start)+'_'+\n",
    "                     str(recon_end)+'_'+proxies+'_inf'+inf_name+'_loc'+str(loc_list[0])+\n",
    "                     '_iter'+str(iter_num)+'.pkl')]\n",
    "    else: \n",
    "        savenames.append(('sic_'+prior_name+'_anrecon_'+str(recon_start)+'_'+\n",
    "                         str(recon_end)+'_'+proxies+'_inf'+inf_name+'_loc'+str(loc_list[0])+\n",
    "                         '_iter'+str(iter_num)+'.pkl'))\n",
    "        \n",
    "    print('Starting experiment with inflation = '+str(inflate)+', '+inf_name)\n",
    "    print('loading configuration...')\n",
    "    \n",
    "    cfg_dict = LMR_utils.param_cfg_update('core.curr_iter',iter_num)\n",
    "    \n",
    "    if cfg.wrapper.multi_seed is not None:\n",
    "        try:\n",
    "            curr_seed = cfg.wrapper.multi_seed[iter_num]\n",
    "            cfg.core.seed = curr_seed \n",
    "            cfg.proxies.seed = curr_seed\n",
    "            cfg.prior.seed = curr_seed\n",
    "            print('Setting current prior iteration seed: {}'.format(curr_seed))\n",
    "        except IndexError:\n",
    "            print('ERROR: multi_seed activated but current MC iteration out of'\n",
    "                  ' range for list of seed values provided in config.')\n",
    "            raise SystemExit(1)\n",
    "\n",
    "    #cfg = LMRlite.load_config(cfile)\n",
    "#    cfg = LMR_config.Config(**cfg_dict)\n",
    "    print('Current seed = '+str(cfg.core.seed))\n",
    "    print('Current proxy seed ='+ str(cfg.proxies.seed))\n",
    "    print('Current prior seed ='+ str(cfg.prior.seed))\n",
    "\n",
    "    print('loading prior')\n",
    "    X, Xb_one = LMRlite.load_prior(cfg)\n",
    "    Xbp = Xb_one - Xb_one.mean(axis=1,keepdims=True)\n",
    "    prior_ind[iter_num,:] = np.array(X.prior_sample_indices)\n",
    "\n",
    "    # load proxies\n",
    "    prox_manager = LMRlite.load_proxies(cfg)   \n",
    "    proxy_ind[iter_num,:] = np.array(prox_manager.ind_assim)"
   ]
  },
  {
   "cell_type": "code",
   "execution_count": null,
   "metadata": {
    "collapsed": true
   },
   "outputs": [],
   "source": [
    "np.allclose(proxy_ind,proxy_ind_og)"
   ]
  },
  {
   "cell_type": "code",
   "execution_count": null,
   "metadata": {
    "collapsed": true
   },
   "outputs": [],
   "source": [
    "np.allclose(prior_ind,prior_ing_og)"
   ]
  },
  {
   "cell_type": "code",
   "execution_count": null,
   "metadata": {
    "collapsed": true
   },
   "outputs": [],
   "source": [
    "X_orig = X\n",
    "X_orig"
   ]
  },
  {
   "cell_type": "code",
   "execution_count": null,
   "metadata": {
    "collapsed": true
   },
   "outputs": [],
   "source": [
    "X.prior_datadir"
   ]
  },
  {
   "cell_type": "code",
   "execution_count": null,
   "metadata": {
    "collapsed": true
   },
   "outputs": [],
   "source": [
    "# use this for labeling graphics and output files\n",
    "prior_id_string = X.prior_datadir.split('/')[-1]\n",
    "print('prior string label: ',prior_id_string)\n",
    "\n",
    "# check if config is set to regrid the prior\n",
    "if cfg.prior.regrid_method:\n",
    "    print('regridding prior...')\n",
    "    # this function over-writes X, even if return is given a different name\n",
    "    [X_regrid,Xb_one_new] = LMRlite.prior_regrid(cfg,X,Xb_one,verbose=True)\n",
    "else:\n",
    "    X_regrid.trunc_state_info = X.full_state_info"
   ]
  },
  {
   "cell_type": "code",
   "execution_count": null,
   "metadata": {
    "collapsed": true
   },
   "outputs": [],
   "source": [
    "proxy_ind_og = proxy_ind\n",
    "prior_ing_og = prior_ind"
   ]
  },
  {
   "cell_type": "code",
   "execution_count": null,
   "metadata": {
    "collapsed": true
   },
   "outputs": [],
   "source": []
  },
  {
   "cell_type": "code",
   "execution_count": null,
   "metadata": {
    "collapsed": true
   },
   "outputs": [],
   "source": []
  },
  {
   "cell_type": "code",
   "execution_count": 17,
   "metadata": {},
   "outputs": [
    {
     "name": "stdout",
     "output_type": "stream",
     "text": [
      "Starting experiment with inflation = 2.6, 2_6\n",
      "loading configuration...\n",
      "Checking configuration ... \n",
      "OK!\n",
      "Checking configuration ... \n",
      "OK!\n",
      "Checking configuration ... \n",
      "OK!\n",
      "Checking configuration ... \n",
      "OK!\n",
      "Checking configuration ... \n",
      "OK!\n",
      "Checking configuration ... \n",
      "OK!\n",
      "Checking configuration ... \n",
      "OK!\n",
      "Checking configuration ... \n",
      "OK!\n",
      "Checking configuration ... \n",
      "OK!\n",
      "Checking configuration ... \n",
      "OK!\n",
      "Starting experiment with inflation = 2.6, 2_6\n",
      "loading configuration...\n",
      "Checking configuration ... \n",
      "OK!\n",
      "Checking configuration ... \n",
      "OK!\n",
      "Checking configuration ... \n",
      "OK!\n",
      "Checking configuration ... \n",
      "OK!\n",
      "Checking configuration ... \n",
      "OK!\n",
      "Checking configuration ... \n",
      "OK!\n",
      "Checking configuration ... \n",
      "OK!\n",
      "Checking configuration ... \n",
      "OK!\n",
      "Checking configuration ... \n",
      "OK!\n",
      "Checking configuration ... \n",
      "OK!\n",
      "Starting experiment with inflation = 2.6, 2_6\n",
      "loading configuration...\n",
      "Checking configuration ... \n",
      "OK!\n",
      "Checking configuration ... \n",
      "OK!\n",
      "Checking configuration ... \n",
      "OK!\n",
      "Checking configuration ... \n",
      "OK!\n",
      "Checking configuration ... \n",
      "OK!\n",
      "Checking configuration ... \n",
      "OK!\n",
      "Checking configuration ... \n",
      "OK!\n",
      "Checking configuration ... \n",
      "OK!\n",
      "Checking configuration ... \n",
      "OK!\n",
      "Checking configuration ... \n",
      "OK!\n",
      "Starting experiment with inflation = 2.6, 2_6\n",
      "loading configuration...\n",
      "Checking configuration ... \n",
      "OK!\n",
      "Checking configuration ... \n",
      "OK!\n",
      "Checking configuration ... \n",
      "OK!\n",
      "Checking configuration ... \n",
      "OK!\n",
      "Checking configuration ... \n",
      "OK!\n",
      "Checking configuration ... \n",
      "OK!\n",
      "Checking configuration ... \n",
      "OK!\n",
      "Checking configuration ... \n",
      "OK!\n",
      "Checking configuration ... \n",
      "OK!\n",
      "Checking configuration ... \n",
      "OK!\n",
      "Starting experiment with inflation = 2.6, 2_6\n",
      "loading configuration...\n",
      "Checking configuration ... \n",
      "OK!\n",
      "Checking configuration ... \n",
      "OK!\n",
      "Checking configuration ... \n",
      "OK!\n",
      "Checking configuration ... \n",
      "OK!\n",
      "Checking configuration ... \n",
      "OK!\n",
      "Checking configuration ... \n",
      "OK!\n",
      "Checking configuration ... \n",
      "OK!\n",
      "Checking configuration ... \n",
      "OK!\n",
      "Checking configuration ... \n",
      "OK!\n",
      "Checking configuration ... \n",
      "OK!\n",
      "Starting experiment with inflation = 2.6, 2_6\n",
      "loading configuration...\n",
      "Checking configuration ... \n",
      "OK!\n",
      "Checking configuration ... \n",
      "OK!\n",
      "Checking configuration ... \n",
      "OK!\n",
      "Checking configuration ... \n",
      "OK!\n",
      "Checking configuration ... \n",
      "OK!\n",
      "Checking configuration ... \n",
      "OK!\n",
      "Checking configuration ... \n",
      "OK!\n",
      "Checking configuration ... \n",
      "OK!\n",
      "Checking configuration ... \n",
      "OK!\n",
      "Checking configuration ... \n",
      "OK!\n",
      "Starting experiment with inflation = 2.6, 2_6\n",
      "loading configuration...\n",
      "Checking configuration ... \n",
      "OK!\n",
      "Checking configuration ... \n",
      "OK!\n",
      "Checking configuration ... \n",
      "OK!\n",
      "Checking configuration ... \n",
      "OK!\n",
      "Checking configuration ... \n",
      "OK!\n",
      "Checking configuration ... \n",
      "OK!\n",
      "Checking configuration ... \n",
      "OK!\n",
      "Checking configuration ... \n",
      "OK!\n",
      "Checking configuration ... \n",
      "OK!\n",
      "Checking configuration ... \n",
      "OK!\n",
      "Starting experiment with inflation = 2.6, 2_6\n",
      "loading configuration...\n",
      "Checking configuration ... \n",
      "OK!\n",
      "Checking configuration ... \n",
      "OK!\n",
      "Checking configuration ... \n",
      "OK!\n",
      "Checking configuration ... \n",
      "OK!\n",
      "Checking configuration ... \n",
      "OK!\n",
      "Checking configuration ... \n",
      "OK!\n",
      "Checking configuration ... \n",
      "OK!\n",
      "Checking configuration ... \n",
      "OK!\n",
      "Checking configuration ... \n",
      "OK!\n",
      "Checking configuration ... \n",
      "OK!\n",
      "Starting experiment with inflation = 2.6, 2_6\n",
      "loading configuration...\n",
      "Checking configuration ... \n",
      "OK!\n",
      "Checking configuration ... \n",
      "OK!\n",
      "Checking configuration ... \n",
      "OK!\n",
      "Checking configuration ... \n",
      "OK!\n",
      "Checking configuration ... \n",
      "OK!\n",
      "Checking configuration ... \n",
      "OK!\n",
      "Checking configuration ... \n",
      "OK!\n",
      "Checking configuration ... \n",
      "OK!\n",
      "Checking configuration ... \n",
      "OK!\n",
      "Checking configuration ... \n",
      "OK!\n",
      "Starting experiment with inflation = 2.6, 2_6\n",
      "loading configuration...\n",
      "Checking configuration ... \n",
      "OK!\n",
      "Checking configuration ... \n",
      "OK!\n",
      "Checking configuration ... \n",
      "OK!\n",
      "Checking configuration ... \n",
      "OK!\n",
      "Checking configuration ... \n",
      "OK!\n",
      "Checking configuration ... \n",
      "OK!\n",
      "Checking configuration ... \n",
      "OK!\n",
      "Checking configuration ... \n",
      "OK!\n",
      "Checking configuration ... \n",
      "OK!\n",
      "Checking configuration ... \n",
      "OK!\n"
     ]
    }
   ],
   "source": [
    "import sys,os,copy\n",
    "#sys.path.append(\"/Users/hakim/gitwork/LMR_python3\")\n",
    "\n",
    "import sys\n",
    "import numpy as np\n",
    "import pickle\n",
    "\n",
    "import matplotlib.pyplot as plt\n",
    "import cartopy.crs as ccrs\n",
    "import cartopy.feature as cfeature\n",
    "from cartopy.util import add_cyclic_point\n",
    "\n",
    "from time import time\n",
    "from spharm import Spharmt, getspecindx, regrid\n",
    "from netCDF4 import Dataset\n",
    "from scipy import stats\n",
    "\n",
    "sys.path.insert(1,'/home/disk/kalman2/mkb22/LMR_lite/')\n",
    "import LMR_lite_utils as LMRlite\n",
    "import LMR_utils \n",
    "import LMR_config\n",
    "#import LMR_config_greg\n",
    "\n",
    "sys.path.insert(1,'/home/disk/p/mkb22/Documents/si_utils_kb/')\n",
    "import Sice_utils as siutils \n",
    "\n",
    "                                          \n",
    "#--------------------------------------------------------------------\n",
    "# USER PARAMETERS: \n",
    "#--------------------------------------------------------------------\n",
    "# inflate the sea ice variable here (can inflate whole state here too)\n",
    "\n",
    "recon_start = '0'\n",
    "recon_end = '2000'\n",
    "\n",
    "loc_list = [15000]\n",
    "\n",
    "inflate = 2.6\n",
    "inf_name = '2_6'\n",
    "prior_name = 'ccsm4'\n",
    "\n",
    "cfile = '/home/disk/kalman2/mkb22/LMR_lite/configs/config_ccsm4_fixedprox.yml'\n",
    "#cfile = '/home/disk/kalman2/mkb22/LMR_lite/configs/config_production2.yml'\n",
    "\n",
    "miter = ['a','b','c','d','e','f','g','h','i','j']\n",
    "#iteration = ['a']\n",
    "\n",
    "proxies = 'pages2kv1'\n",
    "#proxies = 'fullLMRdbv1_1'\n",
    "\n",
    "savedir = ('/home/disk/p/mkb22/nobackup/LMR_output/common_era_experiments/experiments/ccsm4/')\n",
    "        \n",
    "# END USER PARAMETERS: \n",
    "#--------------------------------------------------------------------\n",
    "\n",
    "for mit, iletter in enumerate(miter): \n",
    "    print('Starting experiment with inflation = '+str(inflate)+', '+inf_name)\n",
    "\n",
    "    print('loading configuration...')\n",
    "    cfg = []\n",
    "    cfg = LMRlite.load_config(cfile)\n",
    "\n",
    "    savename = ('sic_'+prior_name+'_anrecon_'+recon_start+'_'+recon_end+\n",
    "                '_'+proxies+'_inf'+inf_name+'_loc'+str(loc_list[0])+'_'+iletter+'.pkl')\n",
    "\n",
    "    #--------------------------------------------------------------------\n",
    "    # print('loading prior')\n",
    "    # X, Xb_one = LMRlite.load_prior(cfg)\n",
    "    # Xbp = Xb_one - Xb_one.mean(axis=1,keepdims=True)\n",
    "\n",
    "    # # use this for labeling graphics and output files\n",
    "    # prior_id_string = X.prior_datadir.split('/')[-1]\n",
    "    # print('prior string label: ',prior_id_string)"
   ]
  },
  {
   "cell_type": "code",
   "execution_count": null,
   "metadata": {
    "collapsed": true
   },
   "outputs": [],
   "source": [
    "print('loading prior')\n",
    "X, Xb_one = LMRlite.load_prior(cfg)\n",
    "Xbp = Xb_one - Xb_one.mean(axis=1,keepdims=True)\n",
    "\n",
    "# use this for labeling graphics and output files\n",
    "prior_id_string = X.prior_datadir.split('/')[-1]\n",
    "print('prior string label: ',prior_id_string)"
   ]
  },
  {
   "cell_type": "code",
   "execution_count": null,
   "metadata": {
    "collapsed": true
   },
   "outputs": [],
   "source": [
    "print('loading prior')\n",
    "X, Xb_one = LMRlite.load_prior(cfg)\n",
    "Xbp = Xb_one - Xb_one.mean(axis=1,keepdims=True)\n",
    "\n",
    "# use this for labeling graphics and output files\n",
    "prior_id_string = X.prior_datadir.split('/')[-1]\n",
    "print('prior string label: ',prior_id_string)\n",
    "\n",
    "# check if config is set to regrid the prior\n",
    "if cfg.prior.regrid_method:\n",
    "    print('regridding prior...')\n",
    "    # this function over-writes X, even if return is given a different name\n",
    "    [X_regrid,Xb_one_new] = LMRlite.prior_regrid(cfg,X,Xb_one,verbose=True)\n",
    "else:\n",
    "    X_regrid.trunc_state_info = X.full_state_info"
   ]
  },
  {
   "cell_type": "code",
   "execution_count": null,
   "metadata": {
    "collapsed": true
   },
   "outputs": [],
   "source": [
    "# make a grid object for the prior\n",
    "grid = LMRlite.Grid(X_regrid)\n",
    "\n",
    "# locate 2m air temperature in Xb_one and make a new array\n",
    "tas_pos = X_regrid.trunc_state_info['tas_sfc_Amon']['pos']\n",
    "tas = Xb_one_new[tas_pos[0]:tas_pos[1]+1,:]\n",
    "\n",
    "# fix using file system softlink for ccsm4 filename...\n",
    "sic_pos = X_regrid.trunc_state_info['sic_sfc_OImon']['pos']\n",
    "print('assigning '+prior_id_string+ ' sea ice ...')\n",
    "\n",
    "sic = Xb_one_new[sic_pos[0]:sic_pos[1]+1,:]"
   ]
  },
  {
   "cell_type": "code",
   "execution_count": 3,
   "metadata": {},
   "outputs": [
    {
     "name": "stdout",
     "output_type": "stream",
     "text": [
      "                               Ice Cores_d18O :     9\n",
      "                                 Ice Cores_dD :     2\n",
      "                              Lake Cores_Misc :     1\n",
      "                             Lake Cores_Varve :     4\n",
      "                       Tree Rings_WidthPages2 :    55\n",
      "                       Tree Rings_WoodDensity :     6\n",
      "                                        TOTAL :    77\n",
      "-----------------------------------------------------\n",
      "completed in 1.9727346897125244 seconds\n",
      "-----------------------------------------------------\n"
     ]
    }
   ],
   "source": [
    "# load proxies\n",
    "prox_manager = LMRlite.load_proxies(cfg)"
   ]
  },
  {
   "cell_type": "raw",
   "metadata": {
    "collapsed": true
   },
   "source": [
    "prox_assim_info = {'Tree Rings_WidthPages2':{'lat':[],'lon':[],'color':'g', 'label':'Tree'},\n",
    "                   'Tree Rings_WidthBreit':{'lat':[],'lon':[],'color':'g', 'label':'Tree'},\n",
    "                   'Tree Rings_WoodDensity':{'lat':[],'lon':[],'color':'g', 'label':'Tree'}, \n",
    "                   'Corals and Sclerosponges_d18O':{'lat':[],'lon':[],'color':'coral', 'label':'Coral'}, \n",
    "                   'Corals and Sclerosponges_SrCa':{'lat':[],'lon':[],'color':'coral', 'label':'Coral'}, \n",
    "                   'Corals and Sclerosponges_Rates':{'lat':[],'lon':[],'color':'coral', 'label':'Coral'},\n",
    "                   'Ice Cores_d18O':{'lat':[],'lon':[],'color':'darkturquoise', 'label':'Ice Core'},\n",
    "                   'Ice Cores_dD':{'lat':[],'lon':[],'color':'darkturquoise', 'label':'Ice Core'}, \n",
    "                   'Ice Cores_MeltFeature':{'lat':[],'lon':[],'color':'darkturquoise', 'label':'Ice Core'},\n",
    "                   'Ice Cores_Accumulation':{'lat':[],'lon':[],'color':'darkturquoise', 'label':'Ice Core'},\n",
    "                   'Lake Cores_Varve':{'lat':[],'lon':[],'color':'royalblue', 'label':'Lake Core'}, \n",
    "                   'Lake Cores_Misc':{'lat':[],'lon':[],'color':'royalblue', 'label':'Lake Core'}, \n",
    "                   'Bivalve_d18O':{'lat':[],'lon':[],'color':'saddlebrown', 'label':'Bivalve'}}\n",
    "\n",
    "for proxy_idx, Y in enumerate(prox_manager.sites_assim_proxy_objs()):\n",
    "    prox_assim_info[Y.type]['lat'] = np.append(prox_assim_info[Y.type]['lat'],Y.lat)\n",
    "    prox_assim_info[Y.type]['lon'] = np.append(prox_assim_info[Y.type]['lon'],Y.lon)"
   ]
  },
  {
   "cell_type": "code",
   "execution_count": null,
   "metadata": {
    "collapsed": true
   },
   "outputs": [],
   "source": [
    "#Create list of proxy types present for current config setup: \n",
    "prox_present = []\n",
    "nprox_assim = 0\n",
    "\n",
    "for Y in prox_manager.sites_assim_proxy_objs():\n",
    "    if Y.type not in prox_present:\n",
    "        prox_present = np.append(prox_present,Y.type)\n",
    "    nprox_assim = nprox_assim+1\n",
    "        \n",
    "prox_present, nprox_assim"
   ]
  },
  {
   "cell_type": "code",
   "execution_count": null,
   "metadata": {
    "collapsed": true
   },
   "outputs": [],
   "source": [
    "# Plot assimilated proxies: Arctic \n",
    "handle_list = []\n",
    "label_list = []\n",
    "\n",
    "fig,ax = plt.subplots(1,1, figsize=(6, 6), subplot_kw = proj)\n",
    "sub_arctic_plot(fig,ax,np.zeros((grid.nlat,grid.nlon)),\n",
    "                grid.lat[:,0],grid.lon[0,:],\n",
    "                'Assimilated proxy locations (total # = '+str(nprox_assim)+')',\n",
    "                1, colorbar=False)\n",
    "for loc in prox_present: \n",
    "    ax.scatter([prox_assim_info[loc]['lon']],[prox_assim_info[loc]['lat']],\n",
    "               color=prox_assim_info[loc]['color'],transform=ccrs.PlateCarree(), \n",
    "               label=prox_assim_info[loc]['label'], edgecolors='k',s=50)\n",
    "\n",
    "handles, labels = ax.get_legend_handles_labels()\n",
    "for handle, label in zip(handles, labels):\n",
    "    if label not in label_list:\n",
    "        handle_list.append(handle)\n",
    "        label_list.append(label)\n",
    "ax.legend(handle_list, label_list,bbox_to_anchor=(1.05, 0.8))\n",
    "\n",
    "#fig.suptitle('SIC Truth vs Reconstruction: 1681-1850', fontsize=14)\n",
    "#plt.tight_layout(rect=(0,0,1,0.93))\n",
    "\n",
    "# savedir = '/home/disk/p/mkb22/Documents/si_analysis_kb/common_era_experiments/analysis/figures/sic_ccsm4_anrecon_0_2000_fullLMRdbv1_1_inf2_6_loc15000_a/'\n",
    "# savename = 'assim_proxies_arc_2090.png'\n",
    "# plt.savefig(savedir+savename)"
   ]
  },
  {
   "cell_type": "code",
   "execution_count": null,
   "metadata": {
    "collapsed": true
   },
   "outputs": [],
   "source": [
    "# Plot assimilated proxies: Global \n",
    "handle_list = []\n",
    "label_list = []\n",
    "\n",
    "fig,ax = plt.subplots(1,1, figsize=(8,6), subplot_kw = dict(projection=ccrs.Robinson()))\n",
    "sub_arctic_plot(fig,ax,np.zeros((grid.nlat,grid.nlon)),\n",
    "                grid.lat[:,0],grid.lon[0,:],\n",
    "                'Assimilated proxy locations (total # = '+str(nprox_assim)+')',1, \n",
    "                colorbar=False, extent=False)\n",
    "for loc in prox_present: \n",
    "    ax.scatter([prox_assim_info[loc]['lon']],[prox_assim_info[loc]['lat']],\n",
    "               color=prox_assim_info[loc]['color'],transform=ccrs.PlateCarree(), \n",
    "               label=prox_assim_info[loc]['label'], edgecolors='k',s=50)\n",
    "\n",
    "handles, labels = ax.get_legend_handles_labels()\n",
    "for handle, label in zip(handles, labels):\n",
    "    if label not in label_list:\n",
    "        handle_list.append(handle)\n",
    "        label_list.append(label)\n",
    "ax.legend(handle_list, label_list,bbox_to_anchor=(1.05, 0.8))\n",
    "\n",
    "# savedir = '/home/disk/p/mkb22/Documents/si_analysis_kb/common_era_experiments/analysis/figures/sic_ccsm4_anrecon_0_2000_fullLMRdbv1_1_inf2_6_loc15000_a/'\n",
    "# savename = 'assim_proxies_global_2090.png'\n",
    "# plt.savefig(savedir+savename)"
   ]
  },
  {
   "cell_type": "code",
   "execution_count": null,
   "metadata": {
    "collapsed": true
   },
   "outputs": [],
   "source": [
    "# All proxies available given config setup: \n",
    "type_site_assim = prox_manager.all_ids_by_group\n",
    "assim_proxy_count = len(prox_manager.all_proxies)\n",
    "for pkey, plist in sorted(type_site_assim.items()):\n",
    "    print(('%45s : %5d' % (pkey, len(plist))))\n",
    "print(('%45s : %5d' % ('TOTAL', assim_proxy_count)))"
   ]
  },
  {
   "cell_type": "code",
   "execution_count": null,
   "metadata": {
    "collapsed": true
   },
   "outputs": [],
   "source": [
    "#--------------------------------------------------------\n",
    "# start reconstruction experiments here for ALL reference datasets\n",
    "#--------------------------------------------------------\n",
    "# set parameters here\n",
    "\n",
    "# NH surface area in M km^2 from concentration in percentage\n",
    "nharea = 2*np.pi*(6380**2)/1e8\n",
    "\n",
    "# inflate the entire state vector\n",
    "if 2 == 1:\n",
    "    print('inflating full state vector...')\n",
    "    xbm = np.mean(Xb_one_new,1)\n",
    "    xbp = Xb_one_new - xbm[:,None]\n",
    "    Xb_one_inflate = np.copy(Xb_one_new)\n",
    "    Xb_one_inflate = np.add(inflate*xbp,xbm[:,None])\n",
    "else:\n",
    "    # inflate sea ice only\n",
    "    print('inflating only sea ice by '+str(inflate))\n",
    "    xb_sicm = np.mean(Xb_one_new[sic_pos[0]:sic_pos[1]+1,:],1)\n",
    "    xb_sicp = np.squeeze(Xb_one_new[sic_pos[0]:sic_pos[1]+1,:])-xb_sicm[:,None]\n",
    "    sic_new = np.add(inflate*xb_sicp,xb_sicm[:,None])\n",
    "    Xb_one_inflate = np.copy(Xb_one_new)\n",
    "    Xb_one_inflate[sic_pos[0]:sic_pos[1]+1,:] = sic_new"
   ]
  },
  {
   "cell_type": "code",
   "execution_count": null,
   "metadata": {
    "collapsed": true
   },
   "outputs": [],
   "source": [
    "print('loading Ye...')\n",
    "[Ye_assim, \n",
    "Ye_assim_coords] = LMR_utils.load_precalculated_ye_vals_psm_per_proxy(cfg, \n",
    "                                                                      prox_manager,\n",
    "                                                                      'assim',\n",
    "                                                                      X.prior_sample_indices)"
   ]
  },
  {
   "cell_type": "code",
   "execution_count": null,
   "metadata": {
    "collapsed": true
   },
   "outputs": [],
   "source": [
    "# nyear = 1000.0\n",
    "# vY = []\n",
    "# for proxy_idx, Y in enumerate(prox_manager.sites_assim_proxy_objs()):\n",
    "#     try: \n",
    "#         vY.append(Y.values[nyear])\n",
    "#     except KeyError: \n",
    "#         continue"
   ]
  },
  {
   "cell_type": "code",
   "execution_count": null,
   "metadata": {
    "collapsed": true
   },
   "outputs": [],
   "source": [
    "# sic_dict_lalo = {}\n",
    "# sic_ens_full = {}\n",
    "# tas_dict_lalo = {}\n",
    "# var_dict = {}\n",
    "# obs_full = {}\n",
    "# obs_size = {}\n",
    "# Ye_full = {}\n",
    "# sic_ens_dict = {}\n",
    "# sie_ens_dict = {}\n",
    "\n",
    "#cfg.core.loc_rad = loc\n",
    "print('Localization radius: ',cfg.core.loc_rad)\n",
    "\n",
    "#--------------------------------------------------------------------------------\n",
    "# Loop over all years available in this reference dataset\n",
    "recon_years = range(cfg.core.recon_period[0],cfg.core.recon_period[1])\n",
    "#recon_years = range(1979,2000)\n",
    "nyears = len(recon_years)\n",
    "\n",
    "sic_save = []\n",
    "nobs = []\n",
    "sic_save_lalo = np.zeros((nyears,grid.nlat,grid.nlon))\n",
    "tas_save_lalo = np.zeros((nyears,grid.nlat,grid.nlon))\n",
    "sic_lalo_full = []\n",
    "var_save = []\n",
    "sic_full_ens = []\n",
    "sie_full_ens = []\n",
    "sic_ndim = sic_pos[1]-sic_pos[0]+1\n",
    "\n",
    "begin_time = time()\n",
    "yk = -1\n",
    "for yk, target_year in enumerate(recon_years):\n",
    "    print('working on: '+ str(target_year))\n",
    "    \n",
    "    # Do data assimilation\n",
    "    [vY,vR,vP,vYe,\n",
    "     vT,vYe_coords] = LMRlite.get_valid_proxies(cfg,prox_manager,target_year,\n",
    "                                                Ye_assim,Ye_assim_coords, verbose=False)\n",
    "    nobs = np.append(nobs,len(vY))\n",
    "    \n",
    "    #xam,Xap,_ = LMRlite.Kalman_optimal(obs_QC,R_QC,Ye_QC,Xb_one_inflate)\n",
    "    xam,Xap = LMRlite.Kalman_ESRF(cfg,vY,vR,vYe,\n",
    "                                  Xb_one_inflate,X=X_regrid,\n",
    "                                  vYe_coords=vYe_coords,verbose=False)\n",
    "\n",
    "    tas_lalo = np.reshape(xam[tas_pos[0]:tas_pos[1]+1],[grid.nlat,grid.nlon])\n",
    "    tas_save_lalo[yk,:,:] = tas_lalo\n",
    "\n",
    "    # this saves sea-ice area for the entire ensemble\n",
    "    sic_ens = []\n",
    "    sie_ens = []\n",
    "    for k in range(grid.nens):\n",
    "        sic_lalo = np.reshape(xam[sic_pos[0]:sic_pos[1]+1]+Xap[sic_pos[0]:sic_pos[1]+1,k],\n",
    "                              [grid.nlat,grid.nlon])\n",
    "        if 'full' in cfg.prior.state_variables['sic_sfc_OImon']:\n",
    "            sic_lalo = np.where(sic_lalo<0.0,0.0,sic_lalo)\n",
    "            sic_lalo = np.where(sic_lalo>100.0,100.0,sic_lalo)\n",
    "\n",
    "            # Calculate extent: \n",
    "            sie_lalo = siutils.calc_sea_ice_extent(sic_lalo,15.0)\n",
    "        else: \n",
    "            sic_lalo = sic_lalo\n",
    "            sie_lalo = np.zeros(sic_lalo.shape)\n",
    "\n",
    "        _,nhmic,_ = LMR_utils.global_hemispheric_means(sic_lalo,grid.lat[:, 0])\n",
    "        _,sie_nhmic,_ = LMR_utils.global_hemispheric_means(sie_lalo,grid.lat[:, 0])\n",
    "        sic_ens.append(nhmic)\n",
    "        sie_ens.append(sie_nhmic)\n",
    "        sic_lalo_full.append(sic_lalo)\n",
    "\n",
    "    sic_save_lalo[yk,:,:] = np.nanmean(np.array(sic_lalo_full),axis=0)\n",
    "    var_save.append(np.var(sic_ens,ddof=1))\n",
    "    sic_full_ens.append(sic_ens)\n",
    "    sie_full_ens.append(sie_ens)\n",
    "\n",
    "    # this saves the gridded concentration field for the entire ensemble\n",
    "    #Xap_save[0,:,:] = Xap[sic_pos[0]:sic_pos[1]+1]\n",
    "    #Xap_var = np.var(Xap[sic_pos[0]:sic_pos[1]+1,:],axis=1,ddof=1)\n",
    "    #Xap_var_save[0,:] = Xap_var\n",
    "\n",
    "    print('done reconstructing: ',target_year)\n",
    "\n",
    "elapsed_time = time() - begin_time\n",
    "print('-----------------------------------------------------')\n",
    "print('completed in ' + str(elapsed_time) + ' seconds')\n",
    "print('-----------------------------------------------------')"
   ]
  },
  {
   "cell_type": "code",
   "execution_count": null,
   "metadata": {
    "collapsed": true
   },
   "outputs": [],
   "source": [
    "sic_recon = {}\n",
    "sic_recon['sic_lalo'] = sic_save_lalo\n",
    "sic_recon['tas_lalo'] = tas_save_lalo\n",
    "sic_recon['sic_ens_var'] = np.mean(var_save)\n",
    "sic_recon['nobs'] = nobs\n",
    "sic_recon['sia_ens'] = np.squeeze(np.array(sic_full_ens))*nharea\n",
    "sic_recon['sie_ens'] = np.squeeze(np.array(sie_full_ens))*nharea\n",
    "sic_recon['recon_years'] = recon_years\n",
    "sic_recon['Ye_assim'] = Ye_assim\n",
    "sic_recon['Ye_assim_coords'] = Ye_assim_coords\n",
    "\n",
    "#sic_recon['sic_ens_full'] = sic_ens_full\n",
    "#sic_recon['sic_full_ens'] = sic_full_ens\n",
    "#sic_recon['obs_full'] = obs_full\n",
    "\n",
    "print('Saving to: ',savedir+savename[0])\n",
    "pickle.dump(sic_recon,open(savedir+savename[0], \"wb\"))"
   ]
  },
  {
   "cell_type": "code",
   "execution_count": null,
   "metadata": {
    "collapsed": true
   },
   "outputs": [],
   "source": [
    "# LOAD ANNUAL SATELLITE DATA: \n",
    "[fet_sia_anom, fet_sie_anom, fet_time] = rrutils.load_annual_satellite_anom(2000)\n",
    "[fet_sia, fet_sie, fet_time2] = rrutils.load_annual_satellite()"
   ]
  },
  {
   "cell_type": "code",
   "execution_count": null,
   "metadata": {
    "collapsed": true
   },
   "outputs": [],
   "source": [
    "sie_ens_anom = sic_recon['sie_ens'] - np.nanmean(sic_recon['sie_ens'],axis=0)\n",
    "sie_ensmn_anom = np.nanmean(sie_ens_anom,axis=1)\n",
    "\n",
    "sie_97_5 = np.percentile(sie_ens_anom,97.5,axis=1)\n",
    "sie_2_5 = np.percentile(sie_ens_anom,2.5,axis=1)\n",
    "\n",
    "[ce_sie,corr_sie,var_sie_sat,var_sie_recon] = rrutils.find_ce_corr(sie_ensmn_anom, fet_sie_anom,fet_time,\n",
    "                                                         np.array(sic_recon['recon_years']),1979,1999)"
   ]
  },
  {
   "cell_type": "code",
   "execution_count": null,
   "metadata": {
    "collapsed": true
   },
   "outputs": [],
   "source": [
    "str(cfg.core.recon_period[1])"
   ]
  },
  {
   "cell_type": "code",
   "execution_count": null,
   "metadata": {
    "collapsed": true
   },
   "outputs": [],
   "source": [
    "plt.figure(figsize=(10,6))\n",
    "\n",
    "plt.plot(sic_recon['recon_years'],sie_ensmn_anom,label='Ensemble mean',linewidth=2.5)\n",
    "plt.plot(fet_time,fet_sie_anom,label='Satellite (Fetterer et al. 2017)', color='r',linewidth=2.5)\n",
    "plt.fill_between(sic_recon['recon_years'],sie_2_5,sie_97_5,alpha=0.25)\n",
    "\n",
    "plt.ylabel('Sea ice extent anomalies (10$^{6}$ $km^2$)',fontsize=14)\n",
    "plt.title('Total Arctic Sea Ice Extent', fontsize=14)\n",
    "\n",
    "plt.legend(fontsize=12)\n",
    "#plt.ylim(7,13.1,1)\n",
    "ce_corr_plt = (('(Satellite, DA reconstruction): R$^{2}$ = ' + '{:,.2f}'.format(corr_sie**2))+\n",
    "               ', CE = '+'{:,.2f}'.format(ce_sie))\n",
    "plt.gcf().text(0.14, 0.14, ce_corr_plt , fontsize=13,color='k')\n",
    "\n",
    "#print(ce_sie,corr_sie,var_sie_sat,var_sie_recon)\n",
    "\n",
    "savedir = ('/home/disk/p/mkb22/Documents/si_analysis_kb/common_era_experiments/'+\n",
    "           'analysis/figures/sic_ccsm4_anrecon_0_2000_fullLMRdbv1_2_6_inf1_loc15000_a/')\n",
    "savename = 'tot_sie_v_sat_1979_2017.png'\n",
    "plt.savefig(savedir+savename)"
   ]
  },
  {
   "cell_type": "code",
   "execution_count": null,
   "metadata": {
    "collapsed": true
   },
   "outputs": [],
   "source": [
    "sic_anom.max()"
   ]
  },
  {
   "cell_type": "code",
   "execution_count": null,
   "metadata": {
    "collapsed": true
   },
   "outputs": [],
   "source": [
    "# Plot assimilated proxies: Arctic\n",
    "recon_years = np.array(sic_recon['recon_years'])\n",
    "\n",
    "sic_sat_mean = np.nanmean(sic_recon['sic_lalo'],axis=0)\n",
    "sic_anom = sic_recon['sic_lalo'] - sic_sat_mean\n",
    "\n",
    "fig,ax = plt.subplots(6,4, figsize=(20,30), subplot_kw = proj)\n",
    "ax = ax.flatten()\n",
    "\n",
    "for yr in range(recon_years.shape[0]):\n",
    "    sub_arctic_plot(fig,ax[yr],sic_anom[yr,:,:],\n",
    "                    grid.lat[:,0],grid.lon[0,:],str(recon_years[yr]),20, colorbar=False)\n",
    "\n",
    "fig.suptitle('SIC Reconstructed anomalies: 1979-2000', fontsize=20)\n",
    "plt.tight_layout(rect=(0,0,1,0.97))\n",
    "\n",
    "# savedir = '/home/disk/p/mkb22/Documents/si_analysis_kb/common_era_experiments/analysis/figures/sic_ccsm4_anrecon_0_2000_pages2kv1_inf2_6_loc15000_a/'\n",
    "# savename = 'sie_recon_anoms_1979_2017.png'\n",
    "# plt.savefig(savedir+savename)"
   ]
  },
  {
   "cell_type": "code",
   "execution_count": null,
   "metadata": {
    "collapsed": true
   },
   "outputs": [],
   "source": []
  },
  {
   "cell_type": "code",
   "execution_count": null,
   "metadata": {
    "collapsed": true
   },
   "outputs": [],
   "source": []
  },
  {
   "cell_type": "markdown",
   "metadata": {},
   "source": [
    "## Run this cell with 1000 ens"
   ]
  },
  {
   "cell_type": "code",
   "execution_count": null,
   "metadata": {
    "collapsed": true
   },
   "outputs": [],
   "source": [
    "colorb = np."
   ]
  },
  {
   "cell_type": "code",
   "execution_count": null,
   "metadata": {
    "collapsed": true
   },
   "outputs": [],
   "source": [
    "plt.fill_between(recon_years_all['CRU'],sie_2_5_200ens,sie_97_5_ccsm4_200ens,\n",
    "                 alpha=0.3, color=plt.cm.Greens(100))\n",
    "plt.fill_between(recon_years_all['CRU'],sie_2_5_1000ens,sie_97_5_1000ens,\n",
    "                 alpha=0.3,color=plt.cm.Greens(200))\n",
    "plt.fill_between(recon_years_all['CRU'],sie_2_5_100ens,sie_97_5_ccsm4_100ens,\n",
    "                 alpha=0.3,color=plt.cm.Greens(300))\n",
    "\n",
    "plt.fill_between(recon_years_all['CRU'],sie_2_5_ccsm4_200ens,sie_97_5_ccsm4_200ens,\n",
    "                 alpha=0.3, color=plt.cm.Blues(100))\n",
    "plt.fill_between(recon_years_all['CRU'],sie_2_5_ccsm4_1000ens,sie_97_5_1000ens,\n",
    "                 alpha=0.3,color=plt.cm.Blues(100))\n",
    "plt.fill_between(recon_years_all['CRU'],sie_2_5_ccsm4_100ens,sie_97_5_ccsm4_100ens,\n",
    "                 alpha=0.3,color=plt.cm.Blues(100))\n",
    "\n",
    "plt.plot(recon_years_all['CRU'],sie_100ens,\n",
    "         label='MPI - 100 ensemble members',color=plt.cm.Greens(100),linewidth=3)\n",
    "plt.plot(recon_years_all['CRU'],sie_1000ens, \n",
    "         color=plt.cm.Greens(200),label='MPI - 1000 ensemble members',linewidth=3)\n",
    "plt.plot(recon_years_all['CRU'],sie_200ens, \n",
    "         color=plt.cm.Greens(300),label='MPI - 200 ensemble members',linewidth=3)\n",
    "\n",
    "plt.plot(recon_years_all['CRU'],sie_ccsm4_100ens,\n",
    "         label='CCSM4 - 100 ensemble members',color=plt.cm.Blues(100),linewidth=3)\n",
    "plt.plot(recon_years_all['CRU'],sie_ccsm4_1000ens, \n",
    "         color=plt.cm.Blues(200),label='CCSM4 - 1000 ensemble members',linewidth=3)\n",
    "plt.plot(recon_years_all['CRU'],sie_ccsm4_200ens, \n",
    "         color=plt.cm.Blues(300),label='CCSM4 - 200 ensemble members',linewidth=3)\n",
    "\n",
    "# plt.plot(recon_years_all['CRU'],np.nanmean(sie_ens_dict[ref_dset],axis=1),label='1000 ensemble members')\n",
    "# plt.fill_between(recon_years_all['CRU'],sie_2_5,sie_97_5,alpha=0.5)\n",
    "\n",
    "plt.title('Sea Ice Extent CCSM4 - ensemble spread')\n",
    "plt.ylabel('sea ice extent (x$10^{6}$ $km^{2}$)')\n",
    "plt.legend()"
   ]
  },
  {
   "cell_type": "code",
   "execution_count": null,
   "metadata": {
    "collapsed": true
   },
   "outputs": [],
   "source": [
    "[ce_ccsm4_100_200, corr_ccsm4_100_200,\n",
    " var_ref_ccsm4_100_200,var_var_ccsm4_100_200] = rrutils.find_ce_corr(sie_ccsm4_100ens, \n",
    "                                                                     sie_ccsm4_200ens,\n",
    "                                                                     analysis_time['CRU'], \n",
    "                                                                     np.arange(1850,2019,1),\n",
    "                                                                     1850, 2018, detrend=False)\n",
    "[ce_ccsm4_1000_200, corr_ccsm4_1000_200,\n",
    " var_ref_ccsm4_1000_200,var_var_ccsm4_1000_200] = rrutils.find_ce_corr(sie_ccsm4_200ens, \n",
    "                                                           sie_ccsm4_1000ens,\n",
    "                                                           analysis_time['CRU'], \n",
    "                                                           np.arange(1850,2020,1), \n",
    "                                                           1850, 2018, detrend=False)\n",
    "[ce_ccsm4_1000_100, corr_ccsm4_1000_100,\n",
    " var_ref_ccsm4_1000_100,var_var_ccsm4_1000_100] = rrutils.find_ce_corr(sie_ccsm4_100ens, \n",
    "                                                                       sie_ccsm4_1000ens,\n",
    "                                                                       analysis_time['CRU'],\n",
    "                                                                       np.arange(1850,2019,1),\n",
    "                                                                       1850, 2018, detrend=False)\n",
    "\n",
    "print('CCSM4 100 vs. 200 ens  r = '+str(np.round(corr_ccsm4_100_200,3)))\n",
    "print('CCSM4 100 vs. 1000 ens r = '+str(np.round(corr_ccsm4_1000_100,3)))\n",
    "print('CCSM4 200 vs. 1000 ens r = '+str(np.round(corr_ccsm4_1000_200,3)))\n",
    "\n",
    "print('CCSM4 100 vs. 200 ens  ce = '+str(np.round(ce_ccsm4_100_200,3)))\n",
    "print('CCSM4 100 vs. 1000 ens ce = '+str(np.round(ce_ccsm4_1000_100,3)))\n",
    "print('CCSM4 200 vs. 1000 ens ce = '+str(np.round(ce_ccsm4_1000_200,3)))"
   ]
  },
  {
   "cell_type": "code",
   "execution_count": null,
   "metadata": {
    "collapsed": true
   },
   "outputs": [],
   "source": [
    "[ce_100_200, corr_100_200,\n",
    " var_ref_100_200,var_var_100_200] = rrutils.find_ce_corr(sie_100ens, sie_200ens,\n",
    "                                                     analysis_time['CRU'], np.arange(1850,2019,1), \n",
    "                                                     1850, 2018, detrend=False)\n",
    "[ce_1000_200, corr_1000_200,\n",
    " var_ref_1000_200,var_var_1000_200] = rrutils.find_ce_corr(sie_200ens, sie_1000ens,\n",
    "                                                     analysis_time['CRU'], np.arange(1850,2020,1), \n",
    "                                                     1850, 2018, detrend=False)\n",
    "[ce_1000_100, corr_1000_100,\n",
    " var_ref_1000_100,var_var_1000_100] = rrutils.find_ce_corr(sie_100ens, sie_1000ens,\n",
    "                                                     analysis_time['CRU'], np.arange(1850,2019,1), \n",
    "                                                     1850, 2018, detrend=False)\n",
    "\n",
    "print('MPI 100 vs. 200 ens  r = '+str(np.round(corr_100_200,3)))\n",
    "print('MPI 100 vs. 1000 ens r = '+str(np.round(corr_1000_100,3)))\n",
    "print('MPI 200 vs. 1000 ens r = '+str(np.round(corr_1000_200,3)))\n",
    "\n",
    "print('MPI 100 vs. 200 ens  ce = '+str(np.round(ce_100_200,3)))\n",
    "print('MPI 100 vs. 1000 ens ce = '+str(np.round(ce_1000_100,3)))\n",
    "print('MPI 200 vs. 1000 ens ce = '+str(np.round(ce_1000_200,3)))"
   ]
  },
  {
   "cell_type": "code",
   "execution_count": null,
   "metadata": {
    "collapsed": true
   },
   "outputs": [],
   "source": [
    "[ce_ccsm4_mpi_100_200, corr_ccsm4_mpi_100_200,\n",
    " var_ref_ccsm4_mpi_100_200,var_var_ccsm4_mpi_100_200] = rrutils.find_ce_corr(sie_ccsm4_100ens, \n",
    "                                                                     sie_ccsm4_200ens,\n",
    "                                                                     analysis_time['CRU'], \n",
    "                                                                     np.arange(1850,2019,1),\n",
    "                                                                     1850, 2018, detrend=False)\n",
    "[ce_ccsm4_mpi_1000_200, corr_ccsm4_mpi_1000_200,\n",
    " var_ref_ccsm4_mpi1000_200,var_var_ccsm4_mpi1000_200] = rrutils.find_ce_corr(sie_ccsm4_200ens, \n",
    "                                                           sie_ccsm4_1000ens,\n",
    "                                                           analysis_time['CRU'], \n",
    "                                                           np.arange(1850,2020,1), \n",
    "                                                           1850, 2018, detrend=False)\n",
    "[ce_ccsm4_mpi_1000_100, corr_ccsm4_mpi1000_100,\n",
    " var_ref_ccsm4_mpi_1000_100,var_var_ccsm4_mpi_1000_100] = rrutils.find_ce_corr(sie_ccsm4_100ens, \n",
    "                                                                       sie_ccsm4_1000ens,\n",
    "                                                                       analysis_time['CRU'],\n",
    "                                                                       np.arange(1850,2019,1),\n",
    "                                                                       1850, 2018, detrend=False)\n",
    "\n",
    "print('CCSM4/MPI 100 vs. 200 ens  r = '+str(np.round(corr_ccsm4_100_200,3)))\n",
    "print('CCSM4/MPI 100 vs. 1000 ens r = '+str(np.round(corr_ccsm4_1000_100,3)))\n",
    "print('CCSM4/MPI 200 vs. 1000 ens r = '+str(np.round(corr_ccsm4_1000_200,3)))\n",
    "\n",
    "print('CCSM4/MPI 100 vs. 200 ens  ce = '+str(np.round(ce_ccsm4_100_200,3)))\n",
    "print('CCSM4/MPI 100 vs. 1000 ens ce = '+str(np.round(ce_ccsm4_1000_100,3)))\n",
    "print('CCSM4/MPI 200 vs. 1000 ens ce = '+str(np.round(ce_ccsm4_1000_200,3)))"
   ]
  },
  {
   "cell_type": "code",
   "execution_count": null,
   "metadata": {
    "collapsed": true
   },
   "outputs": [],
   "source": []
  },
  {
   "cell_type": "code",
   "execution_count": null,
   "metadata": {
    "collapsed": true
   },
   "outputs": [],
   "source": []
  },
  {
   "cell_type": "code",
   "execution_count": null,
   "metadata": {
    "collapsed": true
   },
   "outputs": [],
   "source": []
  },
  {
   "cell_type": "code",
   "execution_count": null,
   "metadata": {
    "collapsed": true
   },
   "outputs": [],
   "source": []
  },
  {
   "cell_type": "code",
   "execution_count": 1,
   "metadata": {},
   "outputs": [
    {
     "name": "stdout",
     "output_type": "stream",
     "text": [
      "Loading information from datasets.yml\n",
      "Loading information from grid_def.yml\n",
      "Loading information from datasets.yml\n",
      "Loading information from grid_def.yml\n",
      "loading configuration...\n",
      "Checking configuration ... \n",
      "OK!\n",
      "Checking configuration ... \n",
      "OK!\n",
      "Checking configuration ... \n",
      "OK!\n",
      "Checking configuration ... \n",
      "OK!\n",
      "Checking configuration ... \n",
      "OK!\n",
      "Checking configuration ... \n",
      "OK!\n",
      "Checking configuration ... \n",
      "OK!\n",
      "Checking configuration ... \n",
      "OK!\n",
      "Checking configuration ... \n",
      "OK!\n",
      "Checking configuration ... \n",
      "OK!\n",
      "Checking configuration ... \n",
      "OK!\n"
     ]
    },
    {
     "data": {
      "text/plain": [
       "'sic_20CRv2_ccsm4_noMV_pages2kv2_anom_200ens'"
      ]
     },
     "execution_count": 1,
     "metadata": {},
     "output_type": "execute_result"
    }
   ],
   "source": [
    "import sys,os,copy\n",
    "#sys.path.append(\"/Users/hakim/gitwork/LMR_python3\")\n",
    "\n",
    "import sys\n",
    "import numpy as np\n",
    "import pickle\n",
    "\n",
    "from time import time\n",
    "from spharm import Spharmt, getspecindx, regrid\n",
    "from netCDF4 import Dataset\n",
    "from scipy import stats\n",
    "\n",
    "sys.path.insert(1,'/home/disk/p/mkb22/Documents/si_analysis_kb/instrumental_assimilation_experiments/')\n",
    "import reanalysis_recons_utils as rrutils\n",
    "\n",
    "sys.path.insert(1,'/home/disk/kalman2/mkb22/LMR_lite/')\n",
    "import LMR_lite_utils as LMRlite\n",
    "import LMR_utils \n",
    "import LMR_config\n",
    "\n",
    "sys.path.insert(1,'/home/disk/p/mkb22/Documents/si_utils_kb/')\n",
    "import Sice_utils as siutils \n",
    "                                          \n",
    "#--------------------------------------------------------------------\n",
    "# USER PARAMETERS: \n",
    "#--------------------------------------------------------------------\n",
    "# recon_start = '0'\n",
    "# recon_end = '2000'\n",
    "\n",
    "# loc_list = [15000]\n",
    "\n",
    "# inflate = 2.6\n",
    "# inf_name = '2_6'\n",
    "# prior_name = 'ccsm4'\n",
    "\n",
    "cfile = '/home/disk/kalman2/mkb22/LMR_lite/configs/config_ccsm4_brennan2020.yml'\n",
    "#cfile = '/home/disk/kalman2/mkb22/LMR_lite/configs/config_production2.yml'\n",
    "\n",
    "proxies = 'pages2kv1'\n",
    "#proxies = 'fullLMRdbv1_1'\n",
    "\n",
    "savedir = ('/home/disk/p/mkb22/nobackup/LMR_output/common_era_experiments/experiments/ccsm4/')\n",
    "\n",
    "print('loading configuration...')\n",
    "cfg = LMRlite.load_config(cfile)\n",
    "\n",
    "cfg.core.nexp\n",
    "    \n",
    "# iter_range = cfg.wrapper.iter_range\n",
    "# MCiters = range(iter_range[0],iter_range[1]+1)"
   ]
  },
  {
   "cell_type": "code",
   "execution_count": 1,
   "metadata": {},
   "outputs": [
    {
     "name": "stdout",
     "output_type": "stream",
     "text": [
      "Loading information from datasets.yml\n",
      "Loading information from grid_def.yml\n",
      "Loading information from datasets.yml\n",
      "Loading information from grid_def.yml\n",
      "loading configuration...\n",
      "Checking configuration ... \n",
      "OK!\n",
      "Checking configuration ... \n",
      "OK!\n",
      "Checking configuration ... \n",
      "OK!\n",
      "Checking configuration ... \n",
      "OK!\n",
      "Checking configuration ... \n",
      "OK!\n",
      "Checking configuration ... \n",
      "OK!\n",
      "Checking configuration ... \n",
      "OK!\n",
      "Checking configuration ... \n",
      "OK!\n",
      "Checking configuration ... \n",
      "OK!\n",
      "Checking configuration ... \n",
      "OK!\n",
      "Checking configuration ... \n",
      "OK!\n"
     ]
    }
   ],
   "source": [
    "import sys,os,copy\n",
    "#sys.path.append(\"/Users/hakim/gitwork/LMR_python3\")\n",
    "\n",
    "import sys\n",
    "import numpy as np\n",
    "import pickle\n",
    "\n",
    "from time import time\n",
    "from spharm import Spharmt, getspecindx, regrid\n",
    "from netCDF4 import Dataset\n",
    "from scipy import stats\n",
    "\n",
    "sys.path.insert(1,'/home/disk/p/mkb22/Documents/si_analysis_kb/instrumental_assimilation_experiments/')\n",
    "import reanalysis_recons_utils as rrutils\n",
    "\n",
    "sys.path.insert(1,'/home/disk/kalman2/mkb22/LMR_lite/')\n",
    "import LMR_lite_utils as LMRlite\n",
    "import LMR_utils \n",
    "import LMR_config\n",
    "\n",
    "sys.path.insert(1,'/home/disk/p/mkb22/Documents/si_utils_kb/')\n",
    "import Sice_utils as siutils \n",
    "\n",
    "cfile = '/home/disk/kalman2/mkb22/LMR_lite/configs/config_ccsm4_brennan2020.yml'\n",
    "#cfile = '/home/disk/kalman2/mkb22/LMR_lite/configs/config_production2.yml'\n",
    "\n",
    "proxies = 'pages2kv1'\n",
    "#proxies = 'fullLMRdbv1_1'\n",
    "\n",
    "savedir = ('/home/disk/p/mkb22/nobackup/LMR_output/common_era_experiments/experiments/ccsm4/')\n",
    "\n",
    "print('loading configuration...')\n",
    "cfg = LMRlite.load_config(cfile)\n",
    "    \n",
    "iter_range = cfg.wrapper.iter_range\n",
    "MCiters = range(iter_range[0],iter_range[1]+1)"
   ]
  },
  {
   "cell_type": "code",
   "execution_count": null,
   "metadata": {
    "collapsed": true
   },
   "outputs": [],
   "source": []
  }
 ],
 "metadata": {
  "anaconda-cloud": {},
  "kernelspec": {
   "display_name": "Python 3",
   "language": "python",
   "name": "python3"
  },
  "language_info": {
   "codemirror_mode": {
    "name": "ipython",
    "version": 3
   },
   "file_extension": ".py",
   "mimetype": "text/x-python",
   "name": "python",
   "nbconvert_exporter": "python",
   "pygments_lexer": "ipython3",
   "version": "3.6.6"
  }
 },
 "nbformat": 4,
 "nbformat_minor": 2
}
