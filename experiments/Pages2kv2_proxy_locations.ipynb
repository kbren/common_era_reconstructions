{
 "cells": [
  {
   "cell_type": "code",
   "execution_count": null,
   "metadata": {},
   "outputs": [],
   "source": []
  },
  {
   "cell_type": "code",
   "execution_count": 1,
   "metadata": {},
   "outputs": [
    {
     "name": "stdout",
     "output_type": "stream",
     "text": [
      "Warning: No module named 'bayspline'\n",
      "Warning: No module named 'bayspar'\n",
      "Warning: No module named 'deltaoxfox'\n",
      "Warning: No module named 'baymag'\n",
      "Loading information from datasets.yml\n",
      "Loading information from grid_def.yml\n"
     ]
    }
   ],
   "source": [
    "import sys,os,copy\n",
    "\n",
    "import numpy as np\n",
    "import pickle\n",
    "\n",
    "from time import time\n",
    "from spharm import Spharmt, getspecindx, regrid\n",
    "from netCDF4 import Dataset\n",
    "from scipy import stats\n",
    "\n",
    "sys.path.insert(1,'/home/disk/kalman2/mkb22/LMR_lite/')\n",
    "import LMR_lite_utils as LMRlite\n",
    "import LMR_utils as lmr\n",
    "import LMR_config\n",
    "\n",
    "sys.path.insert(1,'/home/disk/p/mkb22/Documents/si_utils_kb/')\n",
    "import Sice_utils as siutils \n",
    "\n",
    "sys.path.insert(1,'/home/disk/p/mkb22/Documents/si_analysis_kb/common_era_experiments/')\n",
    "import commonera_utils as ceutils "
   ]
  },
  {
   "cell_type": "code",
   "execution_count": 2,
   "metadata": {},
   "outputs": [
    {
     "name": "stdout",
     "output_type": "stream",
     "text": [
      "loading configuration...\n",
      "Checking configuration ... \n",
      "OK!\n"
     ]
    }
   ],
   "source": [
    "inflate = 1.0\n",
    "inf_name = '1'\n",
    "\n",
    "#prior_name = 'mpi'\n",
    "prior_name = 'ccsm4'\n",
    "\n",
    "pp_err = 0.1\n",
    "#pp_err = False\n",
    "serr = '0_1'\n",
    "#serr = 'pages2kv2'\n",
    "\n",
    "cfile = '/home/disk/kalman2/mkb22/LMR_lite/configs/config_ccsm4_brennan2020.yml'\n",
    "\n",
    "proxies = 'pseudo'\n",
    "\n",
    "savedir = ('/home/disk/p/mkb22/nobackup/LMR_output/common_era_experiments/experiments/pseudo/')\n",
    "\n",
    "print('loading configuration...')\n",
    "cfg = LMRlite.load_config_simple(cfile)\n",
    "\n",
    "recon_start = str(cfg.core.recon_period[0])\n",
    "recon_end = str(cfg.core.recon_period[1])\n",
    "loc_list = [cfg.core.loc_rad]\n",
    "    \n",
    "iter_range = cfg.wrapper.iter_range\n",
    "MCiters = range(iter_range[0],iter_range[1]+1)\n",
    "\n",
    "proxy_ind = np.zeros((iter_range[1]+1,405))\n",
    "prior_ind = np.zeros((iter_range[1]+1,200))"
   ]
  },
  {
   "cell_type": "code",
   "execution_count": 3,
   "metadata": {},
   "outputs": [
    {
     "name": "stdout",
     "output_type": "stream",
     "text": [
      "                                 Bivalve_d18O :     1\n",
      "               Corals and Sclerosponges_Rates :     1\n",
      "                Corals and Sclerosponges_SrCa :     8\n",
      "                Corals and Sclerosponges_d18O :    17\n",
      "                        Ice Cores_MeltFeature :     1\n",
      "                               Ice Cores_d18O :    22\n",
      "                                 Ice Cores_dD :     4\n",
      "                              Lake Cores_Misc :     2\n",
      "                             Lake Cores_Varve :     3\n",
      "                       Tree Rings_WidthPages2 :   259\n",
      "                       Tree Rings_WoodDensity :    47\n",
      "                                        TOTAL :   365\n",
      "-----------------------------------------------------\n",
      "completed in 3.8840298652648926 seconds\n",
      "-----------------------------------------------------\n"
     ]
    }
   ],
   "source": [
    "# load proxies\n",
    "prox_manager = LMRlite.load_proxies(cfg)"
   ]
  },
  {
   "cell_type": "code",
   "execution_count": 4,
   "metadata": {},
   "outputs": [
    {
     "name": "stdout",
     "output_type": "stream",
     "text": [
      "                                 Bivalve_d18O :     1\n",
      "               Corals and Sclerosponges_Rates :     2\n",
      "                Corals and Sclerosponges_SrCa :    11\n",
      "                Corals and Sclerosponges_d18O :    28\n",
      "                        Ice Cores_MeltFeature :     1\n",
      "                               Ice Cores_d18O :    28\n",
      "                                 Ice Cores_dD :     7\n",
      "                              Lake Cores_Misc :     2\n",
      "                             Lake Cores_Varve :     5\n",
      "                       Tree Rings_WidthPages2 :   343\n",
      "                       Tree Rings_WoodDensity :    59\n",
      "                                        TOTAL :   487\n"
     ]
    }
   ],
   "source": [
    "# All proxies available given config setup: \n",
    "type_site_assim = prox_manager.all_ids_by_group\n",
    "assim_proxy_count = len(prox_manager.all_proxies)\n",
    "for pkey, plist in sorted(type_site_assim.items()):\n",
    "    print(('%45s : %5d' % (pkey, len(plist))))\n",
    "print(('%45s : %5d' % ('TOTAL', assim_proxy_count)))"
   ]
  },
  {
   "cell_type": "code",
   "execution_count": 9,
   "metadata": {},
   "outputs": [
    {
     "data": {
      "text/plain": [
       "['__class__',\n",
       " '__delattr__',\n",
       " '__dict__',\n",
       " '__dir__',\n",
       " '__doc__',\n",
       " '__eq__',\n",
       " '__format__',\n",
       " '__ge__',\n",
       " '__getattribute__',\n",
       " '__gt__',\n",
       " '__hash__',\n",
       " '__init__',\n",
       " '__init_subclass__',\n",
       " '__le__',\n",
       " '__lt__',\n",
       " '__module__',\n",
       " '__ne__',\n",
       " '__new__',\n",
       " '__reduce__',\n",
       " '__reduce_ex__',\n",
       " '__repr__',\n",
       " '__setattr__',\n",
       " '__sizeof__',\n",
       " '__str__',\n",
       " '__subclasshook__',\n",
       " '__weakref__',\n",
       " 'all_ids_by_group',\n",
       " 'all_proxies',\n",
       " 'assim_ids_by_group',\n",
       " 'ind_assim',\n",
       " 'ind_eval',\n",
       " 'info_intervals',\n",
       " 'proxy_obj_generator',\n",
       " 'sites_assim_proxy_objs',\n",
       " 'sites_eval_proxy_objs']"
      ]
     },
     "execution_count": 9,
     "metadata": {},
     "output_type": "execute_result"
    }
   ],
   "source": [
    "dir(prox_manager)"
   ]
  },
  {
   "cell_type": "code",
   "execution_count": 22,
   "metadata": {},
   "outputs": [],
   "source": [
    "prox_lat =[]\n",
    "prox_lon =[]\n",
    "for proxy_idx, Y in enumerate(prox_manager.all_proxies):\n",
    "    prox_lat = np.append(prox_lat,Y.lat)\n",
    "    prox_lon = np.append(prox_lat,Y.lon)"
   ]
  },
  {
   "cell_type": "code",
   "execution_count": 36,
   "metadata": {},
   "outputs": [],
   "source": [
    "prox_assim_info = {'Tree Rings_WidthPages2':{'lat':[],'lon':[],'color':'g', 'label':'Tree', 'marker':'D'},\n",
    "                   'Tree Rings_WidthBreit':{'lat':[],'lon':[],'color':'g', 'label':'Tree','marker':'D'},\n",
    "                   'Tree Rings_WoodDensity':{'lat':[],'lon':[],'color':'g', 'label':'Tree','marker':'D'}, \n",
    "                   'Corals and Sclerosponges_d18O':{'lat':[],'lon':[],'color':'coral', 'label':'Coral'}, \n",
    "                   'Corals and Sclerosponges_SrCa':{'lat':[],'lon':[],'color':'coral', 'label':'Coral'}, \n",
    "                   'Corals and Sclerosponges_Rates':{'lat':[],'lon':[],'color':'coral', 'label':'Coral'},\n",
    "                   'Ice Cores_d18O':{'lat':[],'lon':[],'color':'darkturquoise', 'label':'Ice Core','marker':'o'},\n",
    "                   'Ice Cores_dD':{'lat':[],'lon':[],'color':'darkturquoise', 'label':'Ice Core','marker':'o'}, \n",
    "                   'Ice Cores_MeltFeature':{'lat':[],'lon':[],'color':'darkturquoise', 'label':'Ice Core','marker':'o'},\n",
    "                   'Ice Cores_Accumulation':{'lat':[],'lon':[],'color':'darkturquoise', 'label':'Ice Core','marker':'o'},\n",
    "                   'Lake Cores_Varve':{'lat':[],'lon':[],'color':'royalblue', 'label':'Lake Core','marker':'^'}, \n",
    "                   'Lake Cores_Misc':{'lat':[],'lon':[],'color':'royalblue', 'label':'Lake Core','marker':'^'}, \n",
    "                   'Bivalve_d18O':{'lat':[],'lon':[],'color':'saddlebrown', 'label':'Bivalve'}}\n",
    "\n",
    "for proxy_idx, Y in enumerate(prox_manager.all_proxies):\n",
    "    prox_assim_info[Y.type]['lat'] = np.append(prox_assim_info[Y.type]['lat'],Y.lat)\n",
    "    prox_assim_info[Y.type]['lon'] = np.append(prox_assim_info[Y.type]['lon'],Y.lon)"
   ]
  },
  {
   "cell_type": "code",
   "execution_count": 37,
   "metadata": {},
   "outputs": [],
   "source": [
    "savedir = ('/home/disk/p/mkb22/nobackup/LMR_output/common_era_experiments/experiments/pseudo/')\n",
    "savename = 'pages2kv2_all_proxy_info.pkl'"
   ]
  },
  {
   "cell_type": "code",
   "execution_count": 38,
   "metadata": {},
   "outputs": [
    {
     "name": "stdout",
     "output_type": "stream",
     "text": [
      "Saving experiment to:  /home/disk/p/mkb22/nobackup/LMR_output/common_era_experiments/experiments/pseudo/pages2kv2_all_proxy_info.pkl\n"
     ]
    }
   ],
   "source": [
    "print('Saving experiment to: ',savedir+savename)\n",
    "pickle.dump(prox_assim_info,open(savedir+savename, \"wb\"))"
   ]
  },
  {
   "cell_type": "code",
   "execution_count": null,
   "metadata": {},
   "outputs": [],
   "source": []
  }
 ],
 "metadata": {
  "kernelspec": {
   "display_name": "Python 3",
   "language": "python",
   "name": "python3"
  },
  "language_info": {
   "codemirror_mode": {
    "name": "ipython",
    "version": 3
   },
   "file_extension": ".py",
   "mimetype": "text/x-python",
   "name": "python",
   "nbconvert_exporter": "python",
   "pygments_lexer": "ipython3",
   "version": "3.6.6"
  }
 },
 "nbformat": 4,
 "nbformat_minor": 2
}
